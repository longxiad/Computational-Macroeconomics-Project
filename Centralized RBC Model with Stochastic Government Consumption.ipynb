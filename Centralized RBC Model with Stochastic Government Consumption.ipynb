{
 "cells": [
  {
   "cell_type": "code",
   "execution_count": 1,
   "metadata": {},
   "outputs": [],
   "source": [
    "# Import modules\n",
    "import numpy as np\n",
    "import pandas as pd\n",
    "import linearsolve as ls\n",
    "import matplotlib.pyplot as plt\n",
    "from fredpy import series\n",
    "plt.style.use('classic')\n",
    "%matplotlib inline"
   ]
  },
  {
   "cell_type": "markdown",
   "metadata": {},
   "source": [
    "# Centralized RBC Model with Stochastic Government Consumption"
   ]
  },
  {
   "cell_type": "markdown",
   "metadata": {},
   "source": [
    "## The RBC Model without Labor\n",
    "The equilibrium conditions for the RBC model without labor are:\n",
    "\n",
    "\\begin{align}\n",
    "Y_t & = A_t K_t^{\\alpha}\\\\\n",
    "\\frac{1}{C_t} & = \\beta E_t \\left[\\frac{\\alpha A_{t+1}K_{t+1}^{\\alpha-1} +1-\\delta }{C_{t+1}}\\right]\\\\\n",
    "K_{t+1} & = I_t + (1 - \\delta) K_t\\\\\n",
    "Y_t & = C_t + I_t + G_t\\\\\n",
    "T_t & = G_t\\\\\n",
    "\\log A_{t+1} & = \\rho_A \\log A_t + \\epsilon_{t+1}^A\\\\\n",
    "\\log G_{t+1} & = (1 - \\rho_G) \\log \\overline{G} + \\rho_G \\log G_t + \\epsilon_{t+1}^G\\\\\n",
    "\\end{align}\n",
    "\n",
    "where $\\epsilon_{t+1} \\sim \\mathcal{N}(0,\\sigma^2)$. \n",
    "\n",
    "The objective is use `linearsolve` to simulate impulse responses to a TFP shock using the following parameter values for the simulation:\n",
    "\n",
    "| $\\beta$ | $\\alpha$ | $\\sigma$ | $\\rho_A$ | $\\sigma_A $ | $\\overline{G}$ | $\\rho_G $ | $\\sigma_G$ | $T$ |\n",
    "|---------|----------|----------|----------|-------------|----------------|-----------|------------|-----|\n",
    "| 0.99    |  0.35    | 0.025    | 0.75     |    0.006    |      -         | 0.9       | 0.015      | 41  |"
   ]
  },
  {
   "cell_type": "markdown",
   "metadata": {},
   "source": [
    "## Model preparation\n",
    "\n",
    "Before proceding, let's recast the model in the form required for `linearsolve`. Write the model with all variables moved to the lefthand side of the equations and dropping the expecations operator $E_t$ and the exogenous shock $\\epsilon_{t+1}$:\n",
    "\n",
    "\\begin{align}\n",
    "0 & = A_t K_t^{\\alpha} - Y_t\\\\\n",
    "0 & = \\beta E_t \\left[\\frac{\\alpha A_{t+1}K_{t+1}^{\\alpha-1} +1-\\delta }{C_{t+1}}\\right] - \\frac{1}{C_t}\\\\\n",
    "0 & = I_t + (1-\\delta) K_t - K_{t+1}\\\\\n",
    "0 & = C_t + I_t + G_t - Y_t\\\\\n",
    "0 & = G_t - T_t\\\\\n",
    "0 & = \\rho_A \\log A_t - \\log A_{t+1}\\\\\n",
    "0 & = (1 - \\rho_G) \\log \\overline{G} + \\rho_G \\log G_t - \\log G_{t+1}\\\\\n",
    "\\end{align}\n",
    "\n",
    "Remember, capital, government consumption and TFP are called *state variables* because they're $t+1$ values are predetermined. Output, consumption, investment, and taxation are called a *costate* or *control* variables. Note that the model as 5 equations in 5 endogenous variables.\n",
    "\n"
   ]
  },
  {
   "cell_type": "markdown",
   "metadata": {},
   "source": [
    "## Collecting Data:"
   ]
  },
  {
   "cell_type": "markdown",
   "metadata": {},
   "source": [
    "### FRED: Government Consumption Expenditures and Gross Investment (GCE)"
   ]
  },
  {
   "cell_type": "code",
   "execution_count": 2,
   "metadata": {},
   "outputs": [
    {
     "data": {
      "text/html": [
       "<div>\n",
       "<style scoped>\n",
       "    .dataframe tbody tr th:only-of-type {\n",
       "        vertical-align: middle;\n",
       "    }\n",
       "\n",
       "    .dataframe tbody tr th {\n",
       "        vertical-align: top;\n",
       "    }\n",
       "\n",
       "    .dataframe thead th {\n",
       "        text-align: right;\n",
       "    }\n",
       "</style>\n",
       "<table border=\"1\" class=\"dataframe\">\n",
       "  <thead>\n",
       "    <tr style=\"text-align: right;\">\n",
       "      <th></th>\n",
       "      <th>Government Consumption Expenditures and Gross Investment</th>\n",
       "    </tr>\n",
       "    <tr>\n",
       "      <th>Date</th>\n",
       "      <th></th>\n",
       "    </tr>\n",
       "  </thead>\n",
       "  <tbody>\n",
       "    <tr>\n",
       "      <th>1947-01-01</th>\n",
       "      <td>40.274</td>\n",
       "    </tr>\n",
       "    <tr>\n",
       "      <th>1947-04-01</th>\n",
       "      <td>40.138</td>\n",
       "    </tr>\n",
       "    <tr>\n",
       "      <th>1947-07-01</th>\n",
       "      <td>39.361</td>\n",
       "    </tr>\n",
       "    <tr>\n",
       "      <th>1947-10-01</th>\n",
       "      <td>39.534</td>\n",
       "    </tr>\n",
       "    <tr>\n",
       "      <th>1948-01-01</th>\n",
       "      <td>40.875</td>\n",
       "    </tr>\n",
       "  </tbody>\n",
       "</table>\n",
       "</div>"
      ],
      "text/plain": [
       "            Government Consumption Expenditures and Gross Investment\n",
       "Date                                                                \n",
       "1947-01-01                                             40.274       \n",
       "1947-04-01                                             40.138       \n",
       "1947-07-01                                             39.361       \n",
       "1947-10-01                                             39.534       \n",
       "1948-01-01                                             40.875       "
      ]
     },
     "execution_count": 2,
     "metadata": {},
     "output_type": "execute_result"
    }
   ],
   "source": [
    "gce = series('gce')\n",
    "df_gce = pd.DataFrame({'Date': gce.dates, 'Government Consumption Expenditures and Gross Investment': gce.data})\n",
    "df_gce.index = pd.to_datetime(df_gce.Date)\n",
    "df_gce = df_gce[['Government Consumption Expenditures and Gross Investment']]\n",
    "df_gce.head()"
   ]
  },
  {
   "cell_type": "code",
   "execution_count": 3,
   "metadata": {},
   "outputs": [
    {
     "data": {
      "image/png": "[encoded data removed]",
      "text/plain": [
       "<Figure size 432x288 with 1 Axes>"
      ]
     },
     "metadata": {
      "needs_background": "light"
     },
     "output_type": "display_data"
    }
   ],
   "source": [
    "plt.plot(df_gce['Government Consumption Expenditures and Gross Investment'])\n",
    "plt.title('Government Consumption Expenditures \\n and Gross Investment')\n",
    "plt.ylabel('Billions of Dollars')\n",
    "plt.tight_layout()"
   ]
  },
  {
   "cell_type": "markdown",
   "metadata": {},
   "source": [
    "### FRED: Gross Domestic Product (GDP)"
   ]
  },
  {
   "cell_type": "code",
   "execution_count": 4,
   "metadata": {},
   "outputs": [
    {
     "data": {
      "text/html": [
       "<div>\n",
       "<style scoped>\n",
       "    .dataframe tbody tr th:only-of-type {\n",
       "        vertical-align: middle;\n",
       "    }\n",
       "\n",
       "    .dataframe tbody tr th {\n",
       "        vertical-align: top;\n",
       "    }\n",
       "\n",
       "    .dataframe thead th {\n",
       "        text-align: right;\n",
       "    }\n",
       "</style>\n",
       "<table border=\"1\" class=\"dataframe\">\n",
       "  <thead>\n",
       "    <tr style=\"text-align: right;\">\n",
       "      <th></th>\n",
       "      <th>Gross Domestic Product</th>\n",
       "    </tr>\n",
       "    <tr>\n",
       "      <th>Date</th>\n",
       "      <th></th>\n",
       "    </tr>\n",
       "  </thead>\n",
       "  <tbody>\n",
       "    <tr>\n",
       "      <th>1947-01-01</th>\n",
       "      <td>243.164</td>\n",
       "    </tr>\n",
       "    <tr>\n",
       "      <th>1947-04-01</th>\n",
       "      <td>245.968</td>\n",
       "    </tr>\n",
       "    <tr>\n",
       "      <th>1947-07-01</th>\n",
       "      <td>249.585</td>\n",
       "    </tr>\n",
       "    <tr>\n",
       "      <th>1947-10-01</th>\n",
       "      <td>259.745</td>\n",
       "    </tr>\n",
       "    <tr>\n",
       "      <th>1948-01-01</th>\n",
       "      <td>265.742</td>\n",
       "    </tr>\n",
       "  </tbody>\n",
       "</table>\n",
       "</div>"
      ],
      "text/plain": [
       "            Gross Domestic Product\n",
       "Date                              \n",
       "1947-01-01                 243.164\n",
       "1947-04-01                 245.968\n",
       "1947-07-01                 249.585\n",
       "1947-10-01                 259.745\n",
       "1948-01-01                 265.742"
      ]
     },
     "execution_count": 4,
     "metadata": {},
     "output_type": "execute_result"
    }
   ],
   "source": [
    "gdp = series('gdp')\n",
    "df_gdp = pd.DataFrame({'Date': gce.dates, 'Gross Domestic Product': gdp.data})\n",
    "df_gdp.index = pd.to_datetime(df_gdp.Date)\n",
    "df_gdp = df_gdp[['Gross Domestic Product']]\n",
    "df_gdp.head()"
   ]
  },
  {
   "cell_type": "code",
   "execution_count": 5,
   "metadata": {},
   "outputs": [
    {
     "data": {
      "image/png": "[encoded data removed]",
      "text/plain": [
       "<Figure size 432x288 with 1 Axes>"
      ]
     },
     "metadata": {
      "needs_background": "light"
     },
     "output_type": "display_data"
    }
   ],
   "source": [
    "plt.plot(df_gdp['Gross Domestic Product'])\n",
    "plt.title('Gross Domestic Product')\n",
    "plt.ylabel('Billions of Dollars')\n",
    "plt.tight_layout()"
   ]
  },
  {
   "cell_type": "markdown",
   "metadata": {},
   "source": [
    "## Find the average of the ratio of government consumption to GDP"
   ]
  },
  {
   "cell_type": "code",
   "execution_count": 6,
   "metadata": {},
   "outputs": [
    {
     "name": "stdout",
     "output_type": "stream",
     "text": [
      "Average ratio of government consumption to GDP for the US: 0.2059980711717564\n"
     ]
    }
   ],
   "source": [
    "average_ratio = np.average(df_gce['Government Consumption Expenditures and Gross Investment']/df_gdp['Gross Domestic Product'])\n",
    "print('Average ratio of government consumption to GDP for the US:', average_ratio)\n"
   ]
  },
  {
   "cell_type": "code",
   "execution_count": 7,
   "metadata": {},
   "outputs": [
    {
     "data": {
      "text/plain": [
       "<matplotlib.legend.Legend at 0x1c229f20b8>"
      ]
     },
     "execution_count": 7,
     "metadata": {},
     "output_type": "execute_result"
    },
    {
     "data": {
      "image/png": "[encoded data removed]",
      "text/plain": [
       "<Figure size 432x288 with 1 Axes>"
      ]
     },
     "metadata": {
      "needs_background": "light"
     },
     "output_type": "display_data"
    }
   ],
   "source": [
    "plt.plot(df_gce['Government Consumption Expenditures and Gross Investment']/df_gdp['Gross Domestic Product']*100,label='historical ratio')\n",
    "plt.axhline(y=average_ratio*100, color='r', linestyle='-',label='average ratio')\n",
    "plt.title('Ratio of Government Consumption to GDP')\n",
    "plt.ylabel('%')\n",
    "plt.legend(loc='best')\n"
   ]
  },
  {
   "cell_type": "markdown",
   "metadata": {},
   "source": [
    "## Compute the Steady State Values"
   ]
  },
  {
   "cell_type": "code",
   "execution_count": 8,
   "metadata": {},
   "outputs": [
    {
     "name": "stdout",
     "output_type": "stream",
     "text": [
      "a_bar: 1\n",
      "k_bar: 34.3982260521668\n",
      "y_bar: 3.44974994318268\n",
      "i_bar: 0.85995565130417\n",
      "g_bar: 0.7106418343205083   <=== We are gonna use this value in our model!\n",
      "t_bar: 0.7106418343205083\n",
      "c_bar: 1.8791524575580019\n"
     ]
    }
   ],
   "source": [
    "# The model's parameters\n",
    "beta = 0.99\n",
    "alpha = 0.35\n",
    "delta = 0.025\n",
    "\n",
    "# Computer steady state values\n",
    "a_bar = 1\n",
    "k_bar = ((1/beta - 1 + delta) / (alpha))**(1/(alpha - 1))\n",
    "i_bar = delta * k_bar\n",
    "y_bar = 1 * k_bar**alpha\n",
    "g_bar = y_bar * average_ratio\n",
    "t_bar = g_bar\n",
    "c_bar = y_bar - i_bar - g_bar\n",
    "\n",
    "print('a_bar:', a_bar)\n",
    "print('k_bar:', k_bar)\n",
    "print('y_bar:', y_bar)\n",
    "print('i_bar:', i_bar)\n",
    "print('g_bar:', g_bar, '  <=== We are gonna use this value in our model!')\n",
    "print('t_bar:', t_bar)\n",
    "print('c_bar:', c_bar)"
   ]
  },
  {
   "cell_type": "markdown",
   "metadata": {},
   "source": [
    "## Modeling with Linearsolve"
   ]
  },
  {
   "cell_type": "code",
   "execution_count": 9,
   "metadata": {},
   "outputs": [
    {
     "name": "stdout",
     "output_type": "stream",
     "text": [
      "beta               0.990000\n",
      "alpha              0.350000\n",
      "delta              0.025000\n",
      "rho_a              0.750000\n",
      "sigma_a_squared    0.000036\n",
      "g_bar              0.710642\n",
      "rho_g              0.900000\n",
      "sigma_g_squared    0.000225\n",
      "dtype: float64\n"
     ]
    }
   ],
   "source": [
    "# Create a variable called 'parameters' that stores the model parameter values in a Pandas Series\n",
    "parameters = pd.Series()\n",
    "parameters['beta'] = beta\n",
    "parameters['alpha'] = alpha\n",
    "parameters['delta'] = delta\n",
    "parameters['rho_a'] = 0.75\n",
    "parameters['sigma_a_squared'] = 0.006**2\n",
    "parameters['g_bar'] = g_bar\n",
    "parameters['rho_g'] = 0.9\n",
    "parameters['sigma_g_squared'] = 0.015**2\n",
    "\n",
    "# Print the model's parameters\n",
    "print(parameters)"
   ]
  },
  {
   "cell_type": "code",
   "execution_count": 10,
   "metadata": {},
   "outputs": [],
   "source": [
    "# Create variable called 'varNames' that stores the variable names in a list with state variables ordered first\n",
    "varNames = ['a','k','g','c','t','y','i']\n",
    "\n",
    "# Create variable called 'shockNames' that stores an exogenous shock name for each state variable.\n",
    "shockNames = ['e_a', 'e_k', 'e_g']"
   ]
  },
  {
   "cell_type": "code",
   "execution_count": 11,
   "metadata": {},
   "outputs": [],
   "source": [
    "# Define a function that evaluates the equilibrium conditions of the model solved for zero. PROVIDED\n",
    "def equilibrium_equations(variables_forward,variables_current,parameters):\n",
    "    \n",
    "    # Parameters. PROVIDED\n",
    "    p = parameters\n",
    "    \n",
    "    # Current variables. PROVIDED\n",
    "    cur = variables_current\n",
    "    \n",
    "    # Forward variables. PROVIDED\n",
    "    fwd = variables_forward\n",
    "\n",
    "    # Production function\n",
    "    production_function = cur.a*cur.k**p.alpha - cur.y\n",
    "\n",
    "    # Euler equation\n",
    "    euler_equation = p.beta*(p.alpha*fwd.a*fwd.k**(p.alpha-1)+1-p.delta)/fwd.c - 1/cur.c\n",
    "    \n",
    "    # Capital evolution\n",
    "    capital_evolution = cur.i + (1 - p.delta)*cur.k - fwd.k\n",
    "    \n",
    "    # Market clearing\n",
    "    market_clearing = cur.c + cur.i + cur.g - cur.y\n",
    "    \n",
    "    # Government budget constraint\n",
    "    government_budget_constraint = cur.g - cur.t\n",
    "    \n",
    "    # Exogenous tfp\n",
    "    tfp_process = p.rho_a*np.log(cur.a) - np.log(fwd.a)\n",
    "    \n",
    "    # Government consumption evolution\n",
    "    government_consumption_evolution = (1 - p.rho_g)*np.log(p.g_bar) + p.rho_g*np.log(cur.g) - np.log(fwd.g)\n",
    "    \n",
    "    # Stack equilibrium conditions into a numpy array\n",
    "    return np.array([\n",
    "        production_function,\n",
    "        euler_equation,\n",
    "        capital_evolution,\n",
    "        market_clearing,\n",
    "        government_budget_constraint,\n",
    "        tfp_process,\n",
    "        government_consumption_evolution\n",
    "        ])"
   ]
  },
  {
   "cell_type": "code",
   "execution_count": 12,
   "metadata": {},
   "outputs": [],
   "source": [
    "# Initialize the model into a variable named 'rbc_model'\n",
    "rbc_model = ls.model(equations = equilibrium_equations,\n",
    "                 nstates=3,\n",
    "                 varNames=varNames,\n",
    "                 shockNames=shockNames,\n",
    "                 parameters = parameters)"
   ]
  },
  {
   "cell_type": "code",
   "execution_count": 13,
   "metadata": {},
   "outputs": [
    {
     "name": "stdout",
     "output_type": "stream",
     "text": [
      "a     1.000000\n",
      "k    34.398226\n",
      "g     0.710642\n",
      "c     1.879152\n",
      "t     0.710642\n",
      "y     3.449750\n",
      "i     0.859956\n",
      "dtype: float64\n"
     ]
    }
   ],
   "source": [
    "# Compute the steady state numerically using .compute_ss() method of rbc_model\n",
    "guess = [1,4,0.1,1,0.1,1,1]\n",
    "rbc_model.compute_ss(guess)\n",
    "\n",
    "# Print the computed steady state\n",
    "print(rbc_model.ss)"
   ]
  },
  {
   "cell_type": "code",
   "execution_count": 14,
   "metadata": {},
   "outputs": [
    {
     "name": "stdout",
     "output_type": "stream",
     "text": [
      "Solution to the log-linear system:\n",
      "\n",
      "a[t+1] = 0.75·a[t]+e_a[t+1]\n",
      "\n",
      "k[t+1] = 0.091·a[t]+0.9701·k[t]-0.0146·g[t]+e_k[t+1]\n",
      "\n",
      "g[t+1] = 0.9·g[t]+e_g[t+1]\n",
      "\n",
      "  c[t] = 0.1705·a[t]+0.7325·k[t]-0.1104·g[t]\n",
      "\n",
      "  t[t] = g[t]\n",
      "\n",
      "  y[t] = a[t]+0.35·k[t]\n",
      "\n",
      "  i[t] = 3.6389·a[t]-0.1966·k[t]-0.585·g[t]\n"
     ]
    }
   ],
   "source": [
    "# Find the log-linear approximation around the non-stochastic steady state and solve using .approximate_and_solve() method of rbc_model\n",
    "rbc_model.approximate_and_solve()\n",
    "print(rbc_model.solved())"
   ]
  },
  {
   "cell_type": "markdown",
   "metadata": {},
   "source": [
    "## Impulse Responses\n",
    "\n",
    "Compute a 41 period impulse responses of the model's variables to a one percentage point increase in government consumption in period 5."
   ]
  },
  {
   "cell_type": "code",
   "execution_count": 15,
   "metadata": {},
   "outputs": [
    {
     "data": {
      "text/html": [
       "<div>\n",
       "<style scoped>\n",
       "    .dataframe tbody tr th:only-of-type {\n",
       "        vertical-align: middle;\n",
       "    }\n",
       "\n",
       "    .dataframe tbody tr th {\n",
       "        vertical-align: top;\n",
       "    }\n",
       "\n",
       "    .dataframe thead th {\n",
       "        text-align: right;\n",
       "    }\n",
       "</style>\n",
       "<table border=\"1\" class=\"dataframe\">\n",
       "  <thead>\n",
       "    <tr style=\"text-align: right;\">\n",
       "      <th></th>\n",
       "      <th>e_g</th>\n",
       "      <th>a</th>\n",
       "      <th>k</th>\n",
       "      <th>g</th>\n",
       "      <th>c</th>\n",
       "      <th>t</th>\n",
       "      <th>y</th>\n",
       "      <th>i</th>\n",
       "    </tr>\n",
       "  </thead>\n",
       "  <tbody>\n",
       "    <tr>\n",
       "      <th>0</th>\n",
       "      <td>0.00</td>\n",
       "      <td>0.000000e+00</td>\n",
       "      <td>0.000000</td>\n",
       "      <td>0.000000</td>\n",
       "      <td>0.000000</td>\n",
       "      <td>0.000000</td>\n",
       "      <td>0.000000e+00</td>\n",
       "      <td>0.000000</td>\n",
       "    </tr>\n",
       "    <tr>\n",
       "      <th>1</th>\n",
       "      <td>0.00</td>\n",
       "      <td>0.000000e+00</td>\n",
       "      <td>0.000000</td>\n",
       "      <td>0.000000</td>\n",
       "      <td>0.000000</td>\n",
       "      <td>0.000000</td>\n",
       "      <td>0.000000e+00</td>\n",
       "      <td>0.000000</td>\n",
       "    </tr>\n",
       "    <tr>\n",
       "      <th>2</th>\n",
       "      <td>0.00</td>\n",
       "      <td>0.000000e+00</td>\n",
       "      <td>0.000000</td>\n",
       "      <td>0.000000</td>\n",
       "      <td>0.000000</td>\n",
       "      <td>0.000000</td>\n",
       "      <td>0.000000e+00</td>\n",
       "      <td>0.000000</td>\n",
       "    </tr>\n",
       "    <tr>\n",
       "      <th>3</th>\n",
       "      <td>0.00</td>\n",
       "      <td>0.000000e+00</td>\n",
       "      <td>0.000000</td>\n",
       "      <td>0.000000</td>\n",
       "      <td>0.000000</td>\n",
       "      <td>0.000000</td>\n",
       "      <td>0.000000e+00</td>\n",
       "      <td>0.000000</td>\n",
       "    </tr>\n",
       "    <tr>\n",
       "      <th>4</th>\n",
       "      <td>0.00</td>\n",
       "      <td>0.000000e+00</td>\n",
       "      <td>0.000000</td>\n",
       "      <td>0.000000</td>\n",
       "      <td>0.000000</td>\n",
       "      <td>0.000000</td>\n",
       "      <td>0.000000e+00</td>\n",
       "      <td>0.000000</td>\n",
       "    </tr>\n",
       "    <tr>\n",
       "      <th>5</th>\n",
       "      <td>0.01</td>\n",
       "      <td>0.000000e+00</td>\n",
       "      <td>0.000000</td>\n",
       "      <td>0.010000</td>\n",
       "      <td>-0.001104</td>\n",
       "      <td>0.010000</td>\n",
       "      <td>-1.492001e-18</td>\n",
       "      <td>-0.005850</td>\n",
       "    </tr>\n",
       "    <tr>\n",
       "      <th>6</th>\n",
       "      <td>0.00</td>\n",
       "      <td>-2.347841e-19</td>\n",
       "      <td>-0.000146</td>\n",
       "      <td>0.009000</td>\n",
       "      <td>-0.001101</td>\n",
       "      <td>0.009000</td>\n",
       "      <td>-5.119137e-05</td>\n",
       "      <td>-0.005237</td>\n",
       "    </tr>\n",
       "    <tr>\n",
       "      <th>7</th>\n",
       "      <td>0.00</td>\n",
       "      <td>-3.873938e-19</td>\n",
       "      <td>-0.000274</td>\n",
       "      <td>0.008100</td>\n",
       "      <td>-0.001095</td>\n",
       "      <td>0.008100</td>\n",
       "      <td>-9.573224e-05</td>\n",
       "      <td>-0.004685</td>\n",
       "    </tr>\n",
       "    <tr>\n",
       "      <th>8</th>\n",
       "      <td>0.00</td>\n",
       "      <td>-4.807205e-19</td>\n",
       "      <td>-0.000384</td>\n",
       "      <td>0.007290</td>\n",
       "      <td>-0.001086</td>\n",
       "      <td>0.007290</td>\n",
       "      <td>-1.343335e-04</td>\n",
       "      <td>-0.004190</td>\n",
       "    </tr>\n",
       "    <tr>\n",
       "      <th>9</th>\n",
       "      <td>0.00</td>\n",
       "      <td>-5.316979e-19</td>\n",
       "      <td>-0.000479</td>\n",
       "      <td>0.006561</td>\n",
       "      <td>-0.001075</td>\n",
       "      <td>0.006561</td>\n",
       "      <td>-1.676335e-04</td>\n",
       "      <td>-0.003744</td>\n",
       "    </tr>\n",
       "  </tbody>\n",
       "</table>\n",
       "</div>"
      ],
      "text/plain": [
       "    e_g             a         k         g         c         t             y  \\\n",
       "0  0.00  0.000000e+00  0.000000  0.000000  0.000000  0.000000  0.000000e+00   \n",
       "1  0.00  0.000000e+00  0.000000  0.000000  0.000000  0.000000  0.000000e+00   \n",
       "2  0.00  0.000000e+00  0.000000  0.000000  0.000000  0.000000  0.000000e+00   \n",
       "3  0.00  0.000000e+00  0.000000  0.000000  0.000000  0.000000  0.000000e+00   \n",
       "4  0.00  0.000000e+00  0.000000  0.000000  0.000000  0.000000  0.000000e+00   \n",
       "5  0.01  0.000000e+00  0.000000  0.010000 -0.001104  0.010000 -1.492001e-18   \n",
       "6  0.00 -2.347841e-19 -0.000146  0.009000 -0.001101  0.009000 -5.119137e-05   \n",
       "7  0.00 -3.873938e-19 -0.000274  0.008100 -0.001095  0.008100 -9.573224e-05   \n",
       "8  0.00 -4.807205e-19 -0.000384  0.007290 -0.001086  0.007290 -1.343335e-04   \n",
       "9  0.00 -5.316979e-19 -0.000479  0.006561 -0.001075  0.006561 -1.676335e-04   \n",
       "\n",
       "          i  \n",
       "0  0.000000  \n",
       "1  0.000000  \n",
       "2  0.000000  \n",
       "3  0.000000  \n",
       "4  0.000000  \n",
       "5 -0.005850  \n",
       "6 -0.005237  \n",
       "7 -0.004685  \n",
       "8 -0.004190  \n",
       "9 -0.003744  "
      ]
     },
     "execution_count": 15,
     "metadata": {},
     "output_type": "execute_result"
    }
   ],
   "source": [
    "# Compute impulse responses\n",
    "rbc_model.impulse(T=41,t0=5,shocks=[0,0,0.01])\n",
    "\n",
    "# Print the first 10 rows of the computed impulse responses.\n",
    "rbc_model.irs['e_g'].head(10)"
   ]
  },
  {
   "cell_type": "code",
   "execution_count": 16,
   "metadata": {},
   "outputs": [
    {
     "data": {
      "image/png": "[encoded data removed]",
      "text/plain": [
       "<Figure size 1224x576 with 6 Axes>"
      ]
     },
     "metadata": {
      "needs_background": "light"
     },
     "output_type": "display_data"
    }
   ],
   "source": [
    "# Create figure.\n",
    "fig = plt.figure(figsize=(17,8))\n",
    "\n",
    "# Create upper-left axis.\n",
    "\n",
    "# tfp response\n",
    "ax = fig.add_subplot(2,3,1)\n",
    "ax.plot(rbc_model.irs['e_g']['a']*100)\n",
    "ax.set_ylim([-1,1])\n",
    "ax.legend()\n",
    "\n",
    "# government spending response\n",
    "ax = fig.add_subplot(2,3,2)\n",
    "ax.plot(rbc_model.irs['e_g']['g']*100)\n",
    "ax.legend()\n",
    "\n",
    "# capital response\n",
    "ax = fig.add_subplot(2,3,3)\n",
    "ax.plot(rbc_model.irs['e_g']['k']*100)\n",
    "ax.legend()\n",
    "\n",
    "# consumption response\n",
    "ax = fig.add_subplot(2,3,4)\n",
    "ax.plot(rbc_model.irs['e_g']['c']*100)\n",
    "ax.legend()\n",
    "\n",
    "# investment response\n",
    "ax = fig.add_subplot(2,3,5)\n",
    "ax.plot(rbc_model.irs['e_g']['i']*100)\n",
    "ax.legend()\n",
    "\n",
    "# gdp response\n",
    "ax = fig.add_subplot(2,3,6)\n",
    "ax.plot(rbc_model.irs['e_g']['y']*100)\n",
    "ax.legend()\n",
    "\n",
    "plt.tight_layout()"
   ]
  }
 ],
 "metadata": {
  "kernelspec": {
   "display_name": "Python 3",
   "language": "python",
   "name": "python3"
  },
  "language_info": {
   "codemirror_mode": {
    "name": "ipython",
    "version": 3
   },
   "file_extension": ".py",
   "mimetype": "text/x-python",
   "name": "python",
   "nbconvert_exporter": "python",
   "pygments_lexer": "ipython3",
   "version": "3.7.0"
  }
 },
 "nbformat": 4,
 "nbformat_minor": 2
}
